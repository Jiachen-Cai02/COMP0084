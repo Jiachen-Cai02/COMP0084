{
  "cells": [
    {
      "cell_type": "code",
      "execution_count": 5,
      "metadata": {
        "colab": {
          "base_uri": "https://localhost:8080/"
        },
        "id": "OGGNkLXL2Bqk",
        "outputId": "df136afa-e7e7-4bc3-de4b-8832e0014594"
      },
      "outputs": [
        {
          "name": "stderr",
          "output_type": "stream",
          "text": [
            "[nltk_data] Downloading package stopwords to /root/nltk_data...\n",
            "[nltk_data]   Package stopwords is already up-to-date!\n",
            "[nltk_data] Downloading package wordnet to /root/nltk_data...\n",
            "[nltk_data]   Package wordnet is already up-to-date!\n"
          ]
        }
      ],
      "source": [
        "import nltk\n",
        "import numpy as np\n",
        "import pandas as pd\n",
        "from nltk.corpus import stopwords\n",
        "from nltk.tokenize import RegexpTokenizer\n",
        "from nltk.stem import WordNetLemmatizer\n",
        "from nltk.stem.snowball import SnowballStemmer\n",
        "import re\n",
        "import string\n",
        "from operator import itemgetter\n",
        "import csv\n",
        "from collections import Counter\n",
        "import time\n",
        "import random\n",
        "from gensim.models import Word2Vec\n",
        "from gensim.models.word2vec import LineSentence\n",
        "import matplotlib.pyplot as plt\n",
        "import tqdm"
      ]
    },
    {
      "cell_type": "code",
      "execution_count": 6,
      "metadata": {
        "id": "f12xdljA2Bqm"
      },
      "outputs": [],
      "source": [
        "class LogisticRegression():\n",
        "    def __init__(self, x) -> None:\n",
        "        self.w = np.zeros(x.shape[1])\n",
        "\n",
        "    def sigmoid(self, z):\n",
        "\n",
        "        return 1 / (1 + np.exp(-z))\n",
        "\n",
        "    def forward(self, x):\n",
        "        coe = x @ self.w\n",
        "        return self.sigmoid(coe)\n",
        "    \n",
        "    def loss(self, x, y):\n",
        "        loss = -np.sum((y @ (np.log(self.forward(x))) + (1 - y) @ (np.log(1 - self.forward(x))))) / len(x)\n",
        "        return loss\n",
        "    \n",
        "    def gradient_fun(self, x, y):\n",
        "        h = self.forward(x)\n",
        "        gra = -np.dot(x.T, (y - h))/len(x)\n",
        "        return gra\n",
        "\n",
        "def loadtext(filepath):\n",
        "    with open(filepath, 'r') as f:\n",
        "        txt = []\n",
        "        for line in f.readlines():\n",
        "            txt.append(line.strip().lower())\n",
        "        \n",
        "    return txt\n",
        "\n",
        "def preprocessing(text, remove):\n",
        "    #initial setting\n",
        "    lemmatizer = WordNetLemmatizer()\n",
        "    stemmer = SnowballStemmer('english')\n",
        "    stop_words = set(stopwords.words('english'))\n",
        "    tokenizer = RegexpTokenizer(r'\\s+', gaps = True)\n",
        "    processed_txt = []\n",
        "\n",
        "    for line in text:\n",
        "        sentence = []\n",
        "        #remove the punctuation\n",
        "        table = str.maketrans(dict.fromkeys(string.punctuation))\n",
        "        line = line.translate(table)\n",
        "\n",
        "        line = re.sub(r'[^a-zA-Z\\s]', u' ', line, flags = re.UNICODE)\n",
        "\n",
        "        line_token = tokenizer.tokenize(line)\n",
        "\n",
        "        #remove stop words\n",
        "        if (remove == True):\n",
        "            line_token = [w for w in line_token if not w in stop_words]\n",
        "        \n",
        "\n",
        "        for word in line_token:\n",
        "            word = lemmatizer.lemmatize(word)\n",
        "            word = stemmer.stem(word)\n",
        "            sentence.append(word)\n",
        "\n",
        "        processed_txt.append(sentence)\n",
        "    \n",
        "    return processed_txt\n",
        "\n",
        "def inverted_index(pid_data, processed_data):\n",
        "\n",
        "    dic = {}\n",
        "    \n",
        "    for i in range(len(pid_data)):\n",
        "        processed_passage = processed_data[i]\n",
        "\n",
        "        for token in processed_passage:\n",
        "            token_num = processed_passage.count(token)\n",
        "\n",
        "            if token not in dic.keys():\n",
        "                dic[token] = {pid_data[i]: token_num}\n",
        "            else:\n",
        "                add_num = {pid_data[i]: token_num}\n",
        "                dic[token].update(add_num)\n",
        "\n",
        "    return dic\n",
        "\n",
        "\n",
        "def generate_rel_dict(qid_list, pid_list, rel_list):\n",
        "    '''\n",
        "    generate two dict according to the given data\n",
        "    '''\n",
        "\n",
        "    rel_dict = {}\n",
        "    non_rel_dict = {}\n",
        "\n",
        "    for i in range(len(qid_list)):\n",
        "        qid = qid_list[i]\n",
        "        pid = pid_list[i]\n",
        "        rel = rel_list[i]\n",
        "\n",
        "        if rel > 0:\n",
        "            add_dict = {pid:i}\n",
        "            if qid in rel_dict.keys():\n",
        "                rel_dict[qid].update(add_dict)\n",
        "            else:\n",
        "                rel_dict[qid] = add_dict\n",
        "        else:\n",
        "            add_dict = {pid:i}\n",
        "            if qid in non_rel_dict.keys():\n",
        "                non_rel_dict[qid].update(add_dict)\n",
        "            else:\n",
        "                non_rel_dict[qid] = add_dict\n",
        "\n",
        "    return rel_dict, non_rel_dict\n",
        "\n",
        "def generate_AP(model, rel_dic, non_rel_dic):\n",
        "    \n",
        "    total_ap = []\n",
        "    qid_list = list(model.keys())\n",
        "\n",
        "    for qid in qid_list:\n",
        "        N = 0\n",
        "        R_rel = 0\n",
        "        precision = 0\n",
        "        model_pid_list= list(model[qid].keys())\n",
        "        rel_pid_list = list(rel_dic[qid].keys())\n",
        "        \n",
        "\n",
        "        if len(set(model_pid_list) & set(rel_pid_list)) == 0:\n",
        "            precision = 0\n",
        "            total_ap.append(precision)\n",
        "\n",
        "        else:\n",
        "            for pid in model_pid_list:\n",
        "                N += 1\n",
        "                if pid in rel_pid_list:\n",
        "                    R_rel += 1\n",
        "                    precision += R_rel/N\n",
        "                else:\n",
        "                    continue\n",
        "                if R_rel == len(rel_dic[qid]):\n",
        "                    break\n",
        "\n",
        "        \n",
        "            total_ap.append(precision / R_rel)\n",
        "    \n",
        "    return total_ap\n",
        "\n",
        "def generate_NDCG(model, rel_dic, non_rel_dic):\n",
        "\n",
        "    NDCG = []\n",
        "    qid_list = list(model.keys())\n",
        "    \n",
        "    for qid in qid_list:\n",
        "        N = 0\n",
        "        N_opt = 0\n",
        "        DCG = 0\n",
        "        DCG_opt = 0\n",
        "        model_pid_list = list(model[qid].keys())\n",
        "        rel_pid_list = list(rel_dic[qid].keys())\n",
        "\n",
        "        if len(set(model_pid_list) & set(rel_pid_list)) == 0:\n",
        "            DCG += 0\n",
        "        \n",
        "\n",
        "        else:\n",
        "            rel_qid_dic = rel_dic[qid]\n",
        "            for pid in model_pid_list:\n",
        "                N += 1\n",
        "                if pid in rel_pid_list:\n",
        "                    rel_pid = 1\n",
        "                else:\n",
        "                    rel_pid = 0\n",
        "            \n",
        "                DCG += (2**rel_pid - 1)/np.log(1 + N)\n",
        "\n",
        "        #find the opt DCG\n",
        "        rel_qid_dic = rel_dic[qid]\n",
        "        best_sort_ranking = dict(sorted(rel_qid_dic.items(), key=itemgetter(1), reverse = True)[: 100])\n",
        "        opt_pid_list = list(best_sort_ranking.keys())\n",
        "        \n",
        "        for pid in opt_pid_list:\n",
        "            rel_pid = 1\n",
        "            N_opt += 1\n",
        "            DCG_opt += (2**rel_pid - 1)/np.log(1 + N_opt)\n",
        "\n",
        "        NDCG.append(DCG / DCG_opt)\n",
        "    \n",
        "\n",
        "    return NDCG"
      ]
    },
    {
      "cell_type": "code",
      "execution_count": 7,
      "metadata": {
        "id": "uNhm8CJt2Bqn"
      },
      "outputs": [],
      "source": [
        "train_data = pd.read_csv('train_data.tsv', sep = '\\t', header = 0)\n",
        "validation_data = pd.read_csv('validation_data.tsv', sep = '\\t', header = 0)\n",
        "\n",
        "train_qid_dict = np.load('train_qid_dict.npy', allow_pickle= True).tolist()\n",
        "train_pid_dict = np.load('train_pid_dict.npy', allow_pickle= True).tolist()\n",
        "\n",
        "train_qid_list = list(train_data['qid'])\n",
        "train_pid_list = list(train_data['pid'])\n",
        "\n",
        "\n",
        "train_rel_list = list(train_data['relevancy'])\n",
        "train_rel_dic, train_non_rel_dic = generate_rel_dict(train_qid_list, train_pid_list, train_rel_list)"
      ]
    },
    {
      "cell_type": "code",
      "execution_count": 9,
      "metadata": {
        "colab": {
          "base_uri": "https://localhost:8080/"
        },
        "id": "fxfxk41d2Bqn",
        "outputId": "be043a71-90a1-44b1-ef0a-1d526867844a"
      },
      "outputs": [
        {
          "name": "stdout",
          "output_type": "stream",
          "text": [
            "the number of revelance rows is 4797\n",
            "the number of non-revelance rows is 4359542\n"
          ]
        }
      ],
      "source": [
        "def get_row(dict):\n",
        "    key_list = list(dict.keys())\n",
        "    len_row = 0\n",
        "    for key in key_list:\n",
        "        len_row += len(dict[key])\n",
        "\n",
        "    return len_row\n",
        "\n",
        "print('the number of revelance rows is', get_row(train_rel_dic))#4797\n",
        "print('the number of non-revelance rows is', get_row(train_non_rel_dic))#4359542"
      ]
    },
    {
      "cell_type": "code",
      "execution_count": 10,
      "metadata": {
        "colab": {
          "base_uri": "https://localhost:8080/"
        },
        "id": "Owlkzu-h2Bqo",
        "outputId": "adc13691-2944-4c29-9ad5-a54acdc4f7fe"
      },
      "outputs": [
        {
          "name": "stdout",
          "output_type": "stream",
          "text": [
            "current length of new dataset is 109468\n",
            "            qid      pid                                            queries  \\\n",
            "0       1085777  5399616                         what conglomeration means?   \n",
            "1       1089036   756700                          vasospasms caused by what   \n",
            "2       1102330   133273                 why do people grind teeth in sleep   \n",
            "3       1083819  1557161                              what does finger mean   \n",
            "4        414155   709410  is it normal to have heartburn during the firs...   \n",
            "...         ...      ...                                                ...   \n",
            "109463  1092482  7701954                 benefits of jackfruit for diabetes   \n",
            "109464  1095787  4165191         how much is the card reader through paypal   \n",
            "109465    56993  4290505                          building block definition   \n",
            "109466  1086224  1412903              what causes boiling point to increase   \n",
            "109467  1095747  5968505                           how much lactose in whey   \n",
            "\n",
            "                                                  passage  relevancy  \n",
            "0       The prefix intra-means “within”, while inter-m...        0.0  \n",
            "1       Bladder Infection caused by E. Coli, Bladder I...        0.0  \n",
            "2       Sleep apnea is another sleep disorder linked t...        0.0  \n",
            "3       RE: Will this deep laceration on my finger hea...        0.0  \n",
            "4       Share. You can do a medical abortion at home u...        0.0  \n",
            "...                                                   ...        ...  \n",
            "109463  Diabetes Test. Type 2 diabetes risk test. Diab...        0.0  \n",
            "109464  If you need it, the card, like all Sandisk Ext...        0.0  \n",
            "109465  Because, like the other nine, it is indispensa...        0.0  \n",
            "109466  This means in turn that the equilibrium betwee...        0.0  \n",
            "109467  Anhydrous lactose is found in some tablets and...        0.0  \n",
            "\n",
            "[109468 rows x 5 columns]\n"
          ]
        }
      ],
      "source": [
        "def subsampling(pid_dict, non_rel_dic):\n",
        "    \n",
        "    qid_list = list(non_rel_dic.keys())\n",
        "\n",
        "\n",
        "    save_index_list = []\n",
        "    for qid in qid_list:\n",
        "\n",
        "        non_rel_pid_dict = non_rel_dic[qid]\n",
        "\n",
        "        non_rel_index_list = list(non_rel_pid_dict.values())\n",
        "        save_len = int(len(non_rel_index_list) * 0.025)\n",
        "        #shuffle the pid then delete by specific ratio\n",
        "        random.shuffle(non_rel_index_list)\n",
        "        new_non_rel_index_list = non_rel_index_list[0:save_len]\n",
        "\n",
        "        #upadte the pid revelant\n",
        "        save_index_list.extend(new_non_rel_index_list)\n",
        "\n",
        "        #new_rel_dic[qid] = add_non_rel\n",
        "\n",
        "    #new_pid_dict = {key:val for key, val in pid_dict.items() if key in save_pid_list}\n",
        "\n",
        "    return save_index_list\n",
        "\n",
        "new_non_index = subsampling(train_pid_dict, train_non_rel_dic)\n",
        "\n",
        "\n",
        "\n",
        "rel_index = []\n",
        "for qid in list(train_rel_dic.keys()):\n",
        "    rel_index_list = list(train_rel_dic[qid].values())\n",
        "    rel_index.extend(rel_index_list)\n",
        "\n",
        "new_train_index = new_non_index + rel_index\n",
        "print('current length of new dataset is', len(new_train_index))\n",
        "\n",
        "new_train_data = []\n",
        "for index in new_train_index:\n",
        "    new_train_data.append(train_data[index:index + 1])\n",
        "\n",
        "random.shuffle(new_train_data)\n",
        "\n",
        "new_train_data = pd.concat(new_train_data, axis = 0, ignore_index=True)\n",
        "\n",
        "print(new_train_data)\n",
        "\n",
        "train_passage = preprocessing(new_train_data['passage'], True)\n",
        "train_queries = preprocessing(new_train_data['queries'], True)\n",
        "\n",
        "\n",
        "train_passage_dict = dict(zip(new_train_data['pid'], train_passage))\n",
        "train_queries_dict = dict(zip(new_train_data['qid'], train_queries))\n",
        "\n",
        "validation_passage_dict = np.load('validation_pid_dict.npy', allow_pickle= True).tolist()\n",
        "validation_queries_dict = np.load('validation_qid_dict.npy', allow_pickle= True).tolist()\n",
        "\n",
        "validation_passage = preprocessing(validation_data['passage'], True)\n",
        "validation_queries = preprocessing(validation_data['queries'], True)\n",
        "\n",
        "validation_qid_list = list(validation_data['qid'])\n",
        "validation_pid_list = list(validation_data['pid'])\n",
        "\n",
        "validation_rel_list = list(validation_data['relevancy'])\n",
        "validation_rel_dic, validation_non_rel_dic = generate_rel_dict(validation_qid_list, validation_pid_list, validation_rel_list)"
      ]
    },
    {
      "cell_type": "code",
      "execution_count": 11,
      "metadata": {
        "id": "8IzM7nT32Bqp"
      },
      "outputs": [],
      "source": [
        "with open('validation_passage.txt', 'w') as f:\n",
        "    for i in range(len(validation_passage)):\n",
        "        f.write(' '.join(validation_passage[i]) + '\\n')\n",
        "\n",
        "sentences = LineSentence('validation_passage.txt')\n",
        "model_validation_passage = Word2Vec(sentences, sg = 1, vector_size=100, window = 5, min_count=1, negative = 5, hs = 0, workers = 4)"
      ]
    },
    {
      "cell_type": "code",
      "execution_count": 12,
      "metadata": {
        "id": "qLTTXKcX2Bqp"
      },
      "outputs": [],
      "source": [
        "with open('validation_queries.txt', 'w') as f:\n",
        "    for i in range(len(validation_queries)):\n",
        "        f.write(' '.join(validation_queries[i]) + '\\n')\n",
        "\n",
        "sentences = LineSentence('validation_queries.txt')\n",
        "model_validation_queries = Word2Vec(sentences, sg = 1, vector_size=100, window = 5, min_count=1, negative = 5, hs = 0, workers = 4)"
      ]
    },
    {
      "cell_type": "code",
      "execution_count": 13,
      "metadata": {
        "id": "rkPPtPyO2Bqp"
      },
      "outputs": [],
      "source": [
        "with open('train_passage.txt', 'w') as f:\n",
        "    for i in range(len(train_passage)):\n",
        "        f.write(' '.join(train_passage[i]) + '\\n')\n",
        "\n",
        "sentences = LineSentence('train_passage.txt')\n",
        "model_train_passage = Word2Vec(sentences, sg = 1, vector_size=100, window = 5, min_count=1, negative = 5, hs = 0, workers = 4)"
      ]
    },
    {
      "cell_type": "code",
      "execution_count": 14,
      "metadata": {
        "id": "PO3TMENw2Bqp"
      },
      "outputs": [],
      "source": [
        "with open('train_queries.txt', 'w') as f:\n",
        "    for i in range(len(train_queries)):\n",
        "        f.write(' '.join(train_queries[i]) + '\\n')\n",
        "\n",
        "sentences = LineSentence('train_queries.txt')\n",
        "model_train_queries = Word2Vec(sentences, sg = 1, vector_size=100, window = 5, min_count=1, negative = 5, hs = 0, workers = 4)"
      ]
    },
    {
      "cell_type": "code",
      "execution_count": 15,
      "metadata": {
        "id": "5di8gFIU2Bqq"
      },
      "outputs": [],
      "source": [
        "def average_embedding(data_dict, model):\n",
        "\n",
        "    return_dic= {}\n",
        "    for i in list(data_dict.keys()):\n",
        "        data = data_dict[i]\n",
        "\n",
        "        if len(data) != 0:\n",
        "            token_vector = model.wv[data]\n",
        "            avg_vector = np.mean(token_vector, axis = 0)\n",
        "\n",
        "        add_dict = {i:avg_vector}\n",
        "        return_dic.update(add_dict)\n",
        "\n",
        "    return return_dic\n",
        "\n",
        "def generate_data_for_models(data, embedding_query_dict, embedding_passgae_dict, rel_dict):\n",
        "\n",
        "    qid_list = []\n",
        "    pid_list = []\n",
        "    queries_list = []\n",
        "    passgaes_list = []\n",
        "    rel_list = []\n",
        "    for i in range(len(data)):\n",
        "        qid = data.qid[i]\n",
        "        pid = data.pid[i]\n",
        "\n",
        "        if qid in embedding_query_dict.keys() and pid in embedding_passgae_dict.keys():\n",
        "            qid_list.append(qid)\n",
        "            pid_list.append(pid)\n",
        "            queries_list.append(embedding_query_dict[qid].reshape(-1))\n",
        "            passgaes_list.append(embedding_passgae_dict[pid].reshape(-1))\n",
        "\n",
        "            if pid in rel_dict[qid].keys():\n",
        "                rel = 1\n",
        "            else:\n",
        "                rel = 0\n",
        "            rel_list.append(rel)\n",
        "    \n",
        "    query_data = np.array(queries_list)\n",
        "    passages_data = np.array(passgaes_list)\n",
        "\n",
        "    x_data = np.concatenate((query_data, passages_data), axis = 1)\n",
        "    y_data = np.array(rel_list)\n",
        "    \n",
        "    return x_data, y_data"
      ]
    },
    {
      "cell_type": "code",
      "execution_count": 16,
      "metadata": {
        "colab": {
          "base_uri": "https://localhost:8080/"
        },
        "id": "RBdjjdE82Bqq",
        "outputId": "58524b71-0ba0-47df-8638-108d4602a9fc"
      },
      "outputs": [
        {
          "name": "stdout",
          "output_type": "stream",
          "text": [
            "The size of x for training dataset is (109468, 200)\n",
            "The size of y for training dataset is (109468,)\n",
            "The size of x for validation dataset is (1103039, 200)\n",
            "The size of y for validation dataset is (1103039,)\n"
          ]
        }
      ],
      "source": [
        "train_queries_embedding = average_embedding(train_queries_dict, model_train_queries)\n",
        "train_passages_embedding = average_embedding(train_passage_dict, model_train_passage)\n",
        "\n",
        "train_x_data, train_y_data = generate_data_for_models(new_train_data, train_queries_embedding, train_passages_embedding, train_rel_dic)\n",
        "\n",
        "print(\"The size of x for training dataset is\", train_x_data.shape)\n",
        "print(\"The size of y for training dataset is\", train_y_data.shape)\n",
        "\n",
        "\n",
        "validation_queries_embedding = average_embedding(validation_queries_dict, model_validation_queries)\n",
        "validation_passages_embedding = average_embedding(validation_passage_dict, model_validation_passage)\n",
        "\n",
        "validation_x_data, validation_y_data = generate_data_for_models(validation_data, validation_queries_embedding, validation_passages_embedding, validation_rel_dic)\n",
        "\n",
        "print(\"The size of x for validation dataset is\", validation_x_data.shape)\n",
        "print(\"The size of y for validation dataset is\", validation_y_data.shape)"
      ]
    },
    {
      "cell_type": "code",
      "execution_count": 17,
      "metadata": {
        "colab": {
          "base_uri": "https://localhost:8080/"
        },
        "id": "fJy31O7V2Bqq",
        "outputId": "f2b7122b-67e5-46ed-d37f-d5077aae8deb"
      },
      "outputs": [
        {
          "name": "stdout",
          "output_type": "stream",
          "text": [
            "The size of x for training dataset is (109468, 200)\n",
            "The size of y for training dataset is (109468,)\n"
          ]
        }
      ],
      "source": [
        "print(\"The size of x for training dataset is\", train_x_data.shape)\n",
        "print(\"The size of y for training dataset is\", train_y_data.shape)\n"
      ]
    },
    {
      "cell_type": "code",
      "execution_count": 18,
      "metadata": {
        "id": "LqrFQ8bC2Bqq"
      },
      "outputs": [],
      "source": [
        "def train(x, y, epochs = 3000, step_size = 10, tol = 0.001, lr = 0.001): \n",
        "        add_b = np.ones((x.shape[0], 1))\n",
        "        x = np.concatenate((add_b, x), axis = 1)\n",
        "        model = LogisticRegression(x)\n",
        "        step = 0\n",
        "        loss_list = []\n",
        "        for epoch in range(epochs):\n",
        "            loss = model.loss(x, y)\n",
        "            grad = model.gradient_fun(x[step:step + step_size], y[step:step + step_size])\n",
        "            model.w -= lr * grad\n",
        "            if step >= len(x):\n",
        "                print('already more than length of data')\n",
        "                break\n",
        "            loss_list.append(loss)\n",
        "\n",
        "            if np.linalg.norm(grad) < tol:\n",
        "                print('grad already converges')\n",
        "                break\n",
        "            #if epoch % 300 == 0:\n",
        "                #print('number of epochs: ' + str(epoch) + ' training loss :' + str(loss))\n",
        "            \n",
        "            step += step_size\n",
        "        \n",
        "        return model.w, loss_list\n"
      ]
    },
    {
      "cell_type": "code",
      "execution_count": 19,
      "metadata": {
        "colab": {
          "base_uri": "https://localhost:8080/",
          "height": 421
        },
        "id": "8-wJ_C2A2Bqr",
        "outputId": "b384d917-766c-4cee-8c6a-4bf14b43e349"
      },
      "outputs": [
        {
          "data": {
            "text/plain": [
              "<matplotlib.legend.Legend at 0x7f70dcd585b0>"
            ]
          },
          "execution_count": 19,
          "metadata": {},
          "output_type": "execute_result"
        },
        {
          "data": {
            "image/png": "[encoded data removed]",
            "text/plain": [
              "<Figure size 576x432 with 1 Axes>"
            ]
          },
          "metadata": {
            "needs_background": "light"
          },
          "output_type": "display_data"
        }
      ],
      "source": [
        "lr_list = [0.01, 0.001, 0.0001]\n",
        "loss_list = []\n",
        "plt.figure(figsize=(8, 6))\n",
        "plt.xlabel('epochs')\n",
        "plt.ylabel('training loss')\n",
        "plt.title('Training loss for different learning rates')\n",
        "for i in range(len(lr_list)):\n",
        "  w_lr, Loss_lr = train(train_x_data, train_y_data, lr = lr_list[i])\n",
        "  loss_list.append(Loss_lr)\n",
        "  plt.plot(np.arange(len(loss_list[i])), loss_list[i], label = 'lr = ' + str(lr_list[i]))\n",
        "plt.legend()\n"
      ]
    },
    {
      "cell_type": "code",
      "execution_count": 20,
      "metadata": {
        "colab": {
          "base_uri": "https://localhost:8080/",
          "height": 421
        },
        "id": "DkbqO4_2fano",
        "outputId": "150956cd-622c-4779-cd54-750274c95189"
      },
      "outputs": [
        {
          "data": {
            "text/plain": [
              "[<matplotlib.lines.Line2D at 0x7f70d220b040>]"
            ]
          },
          "execution_count": 20,
          "metadata": {},
          "output_type": "execute_result"
        },
        {
          "data": {
            "image/png": "[encoded data removed]",
            "text/plain": [
              "<Figure size 576x432 with 1 Axes>"
            ]
          },
          "metadata": {
            "needs_background": "light"
          },
          "output_type": "display_data"
        }
      ],
      "source": [
        "plt.figure(figsize=(8, 6))\n",
        "plt.xlabel('epochs')\n",
        "plt.ylabel('training loss')\n",
        "plt.title('Training loss when lr = 0.5')\n",
        "w_lr, Loss_lr = train(train_x_data, train_y_data, lr = 0.5)\n",
        "plt.plot(np.arange(len(Loss_lr)), Loss_lr, label = 'lr = 0.5')"
      ]
    },
    {
      "cell_type": "code",
      "execution_count": 21,
      "metadata": {
        "colab": {
          "base_uri": "https://localhost:8080/",
          "height": 421
        },
        "id": "np6KD4bEgq9t",
        "outputId": "f8b8c25b-ea2b-4518-f092-e3aa9a1d0798"
      },
      "outputs": [
        {
          "data": {
            "text/plain": [
              "[<matplotlib.lines.Line2D at 0x7f70c8146490>]"
            ]
          },
          "execution_count": 21,
          "metadata": {},
          "output_type": "execute_result"
        },
        {
          "data": {
            "image/png": "[encoded data removed]",
            "text/plain": [
              "<Figure size 576x432 with 1 Axes>"
            ]
          },
          "metadata": {
            "needs_background": "light"
          },
          "output_type": "display_data"
        }
      ],
      "source": [
        "plt.figure(figsize=(8, 6))\n",
        "plt.xlabel('epochs')\n",
        "plt.ylabel('training loss')\n",
        "plt.title('Training loss when lr = 1')\n",
        "w_lr, Loss_lr = train(train_x_data, train_y_data, lr = 1)\n",
        "plt.plot(np.arange(len(Loss_lr)), Loss_lr, label = 'lr = 1')"
      ]
    },
    {
      "cell_type": "code",
      "execution_count": 22,
      "metadata": {
        "id": "31Vn9ihVQbdc"
      },
      "outputs": [],
      "source": [
        "w_LR, loss_LR = train(train_x_data, train_y_data, step_size = 30, lr = 0.001)"
      ]
    },
    {
      "cell_type": "code",
      "execution_count": 23,
      "metadata": {
        "id": "dwAUEQDrOP-e"
      },
      "outputs": [],
      "source": [
        "def gengerate_LR_score(qid, queries_embedding, passages_embedding):\n",
        "  \n",
        "  qid_dict = {}\n",
        "  qid_vector = queries_embedding[qid]\n",
        "  pid_index = [i for i,x in enumerate(validation_qid_list) if x == qid ]\n",
        "  for index in pid_index:\n",
        "    pid = validation_pid_list[index]\n",
        "    pid_vector = passages_embedding[pid]\n",
        "    qid_pid_vector = np.hstack((1, qid_vector, pid_vector))\n",
        "    qid_pid_vector = qid_pid_vector.reshape(1, -1)\n",
        "    model = LogisticRegression(qid_pid_vector)\n",
        "    model.w = w_LR\n",
        "    score = model.forward(qid_pid_vector)\n",
        "    add_dict = {pid:score}\n",
        "    qid_dict.update(add_dict)\n",
        "\n",
        "  sorted_top_100 = dict(sorted(qid_dict.items(), key=itemgetter(1), reverse = True)[: 100])\n",
        "\n",
        "  return sorted_top_100\n",
        "\n",
        "LR_dict = {}\n",
        "for qid in validation_qid_list:\n",
        "  if qid in LR_dict.keys():\n",
        "    continue\n",
        "  else:\n",
        "    qid_score_dict = gengerate_LR_score(qid, validation_queries_embedding, validation_passages_embedding)\n",
        "    add_dict = {qid: qid_score_dict}\n",
        "    LR_dict.update(add_dict)\n"
      ]
    },
    {
      "cell_type": "code",
      "execution_count": 24,
      "metadata": {
        "colab": {
          "base_uri": "https://localhost:8080/"
        },
        "id": "5G43ms5IsG1F",
        "outputId": "e1dcbb94-a63f-4540-c0f7-a4c12a8117f7"
      },
      "outputs": [
        {
          "data": {
            "text/plain": [
              "1148"
            ]
          },
          "execution_count": 24,
          "metadata": {},
          "output_type": "execute_result"
        }
      ],
      "source": [
        "len(LR_dict)"
      ]
    },
    {
      "cell_type": "code",
      "execution_count": 25,
      "metadata": {
        "colab": {
          "base_uri": "https://localhost:8080/"
        },
        "id": "DPRGu6XMYnHV",
        "outputId": "d0f054e1-151c-4ada-948b-f71b2fd2ac51"
      },
      "outputs": [
        {
          "data": {
            "text/plain": [
              "0.009413809445751785"
            ]
          },
          "execution_count": 25,
          "metadata": {},
          "output_type": "execute_result"
        }
      ],
      "source": [
        "LR_AP_list = generate_AP(LR_dict, validation_rel_dic, validation_non_rel_dic)\n",
        "LR_AP = np.mean(LR_AP_list)\n",
        "LR_AP"
      ]
    },
    {
      "cell_type": "code",
      "execution_count": 26,
      "metadata": {
        "colab": {
          "base_uri": "https://localhost:8080/"
        },
        "id": "uQFDei51YoZk",
        "outputId": "00c2bb95-6ece-429a-fc30-d92ae34f99a7"
      },
      "outputs": [
        {
          "data": {
            "text/plain": [
              "0.028097291011050914"
            ]
          },
          "execution_count": 26,
          "metadata": {},
          "output_type": "execute_result"
        }
      ],
      "source": [
        "LR_NDCG_list = generate_NDCG(LR_dict, validation_rel_dic, validation_non_rel_dic)\n",
        "LR_NDCG = np.mean(LR_NDCG_list)\n",
        "LR_NDCG"
      ]
    },
    {
      "cell_type": "code",
      "execution_count": 28,
      "metadata": {
        "id": "15qynaXT3pKr"
      },
      "outputs": [],
      "source": [
        "with open('LR.txt','w') as f:\n",
        "    for i in range(len(LR_dict.keys())):\n",
        "        qid = list(LR_dict.keys())[i]\n",
        "        pids = list(LR_dict[qid].keys())\n",
        "        #if not equals 100, delete it\n",
        "        if len(pids) < 100:\n",
        "          continue\n",
        "        for j in range(100):\n",
        "          pid = pids[j]\n",
        "          # qid A2 pid rank score algoname\n",
        "          f.writelines([str(qid), '  A2  ', str(pid),'  ', str(j+1),'  ',str(float(LR_dict[qid][pid])), '  LR', '\\n'])\n",
        "f.close()"
      ]
    }
  ],
  "metadata": {
    "colab": {
      "machine_shape": "hm",
      "provenance": []
    },
    "gpuClass": "standard",
    "kernelspec": {
      "display_name": "base",
      "language": "python",
      "name": "python3"
    },
    "language_info": {
      "codemirror_mode": {
        "name": "ipython",
        "version": 3
      },
      "file_extension": ".py",
      "mimetype": "text/x-python",
      "name": "python",
      "nbconvert_exporter": "python",
      "pygments_lexer": "ipython3",
      "version": "3.9.16"
    },
    "orig_nbformat": 4
  },
  "nbformat": 4,
  "nbformat_minor": 0
}
